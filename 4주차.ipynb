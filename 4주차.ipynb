{
 "cells": [
  {
   "cell_type": "markdown",
   "id": "99c9fdfd-23a7-43c8-abf7-43d9d2a16b9d",
   "metadata": {},
   "source": [
    "# 디폴드 값 및 위치, 키워드 인자의 차이점을 설명하시오.\n",
    "- 파이썬 함수는 다양한 방식으로 인자를 전달할 수 있음."
   ]
  },
  {
   "cell_type": "code",
   "execution_count": 2,
   "id": "bfd7bcfd-0a5b-49a9-ae49-25f11beba1d6",
   "metadata": {},
   "outputs": [
    {
     "name": "stdout",
     "output_type": "stream",
     "text": [
      "1 10 0.2 True\n",
      "1 100 0.2 True\n",
      "1 10 0.2 False\n",
      "1 10 0.5 True\n"
     ]
    }
   ],
   "source": [
    "def get_analog(channel, sample=10, calibration=0.2, rms= True):\n",
    "    print(channel, sample, calibration, rms)\n",
    " \n",
    "get_analog (1)\n",
    "get_analog (1, 100)\n",
    "get_analog (1, rms=False)\n",
    "get_analog (calibration=0.5, channel=1)\n"
   ]
  },
  {
   "cell_type": "code",
   "execution_count": null,
   "id": "fff77e22-edd0-420e-8662-295afb697a36",
   "metadata": {},
   "outputs": [],
   "source": [
    "# print()처럼 인자를 가변으로 전달하는 함수를 구현하시오.\n",
    "- 함수의 매개변수와 인자는 여러 개의 인자를 묶어 반복 가능한 객체로 전달하는 패킹과 이를 다시 풀어놓은 언패킹 지원\n",
    "\n"
   ]
  },
  {
   "cell_type": "code",
   "execution_count": 4,
   "id": "f8f8fe70-15af-4455-8806-8e4c8b6e0af4",
   "metadata": {},
   "outputs": [
    {
     "name": "stdout",
     "output_type": "stream",
     "text": [
      "1 0 () 0 {}\n",
      "1 2 (2, 3) 0 {}\n",
      "1 2 (2, 3) 0 {}\n",
      "1 0 () 3 {'sample': 1, 'calibration': 2, 'rms': True}\n",
      "1 0 () 3 {'sample': 1, 'calibration': 2, 'rms': True}\n",
      "1 2 (2, 3) 3 {'sample': 1, 'calibration': 2, 'rms': True}\n"
     ]
    }
   ],
   "source": [
    "def get_analog(channel, *args, **kwargs):\n",
    "    print(channel, len(args), args, len(kwargs), kwargs)\n",
    "    \n",
    "get_analog (1)\n",
    "get_analog (1, 2, 3)\n",
    "get_analog (1, *[2, 3])\n",
    "get_analog(1, sample=1, calibration=2, rms= True)\n",
    "get_analog(1, **{'sample':1, 'calibration':2, 'rms': True})\n",
    "get_analog(1, 2, 3, sample=1, calibration=2, rms= True)"
   ]
  },
  {
   "cell_type": "markdown",
   "id": "2afb1f51-433a-4aff-a64d-889d3899a333",
   "metadata": {},
   "source": [
    "# 조건을 만족하지 않으면 예외를 던지는 함수를 구현하시오.\n",
    "- raise는 예외 객체를 호출한 쪽으로 전달함"
   ]
  },
  {
   "cell_type": "code",
   "execution_count": 10,
   "id": "b7f41f50-2b29-417e-a3a2-04f200c26d93",
   "metadata": {},
   "outputs": [],
   "source": [
    "from random import shuffle, randint\n",
    "\n",
    "def get_analog(channel, *args, **kwargs):\n",
    "    if channel < 0 or channel > 15:\n",
    "        raise ValueError (\"Value out of range\")\n",
    "    if len(args) > 3:\n",
    "        raise SyntaxError (\"Invalied argument\")\n",
    "\n",
    "    pseudo_data = [i for i in range(1, 45 + 1)]\n",
    "    shuffle(pseudo_data)\n",
    "\n",
    "    return pseudo_data[randint (1, 45)]\n"
   ]
  },
  {
   "cell_type": "code",
   "execution_count": 11,
   "id": "e273e4f7-4f98-4e0b-a2b3-4808f9d33a7c",
   "metadata": {},
   "outputs": [
    {
     "name": "stdout",
     "output_type": "stream",
     "text": [
      "33 29\n"
     ]
    }
   ],
   "source": [
    "try:\n",
    "    ret1 = get_analog(1)\n",
    "    ret2 = get_analog(1, 1, 2, 3)\n",
    "except ValueError as e:\n",
    "    print(e)\n",
    "except SyntaxError as e:\n",
    "    print(e)\n",
    "else:\n",
    "    print(ret1, ret2)"
   ]
  },
  {
   "cell_type": "markdown",
   "id": "7a0bcbdc-b106-4835-8424-6d75ac89a97f",
   "metadata": {},
   "source": [
    "# 클래스처럼 상태를 유지하는 함수를 구현하시오.\n",
    "- 클로저(closure)는 일급함수(first-class function)의 이름 바인딩 기술로 내부함수 프리 자유변수(free variable)와 함께 저장\n"
   ]
  },
  {
   "cell_type": "code",
   "execution_count": 12,
   "id": "75d929d2-8e57-40ad-954f-d2511bfd58ca",
   "metadata": {},
   "outputs": [
    {
     "name": "stdout",
     "output_type": "stream",
     "text": [
      "60\n"
     ]
    }
   ],
   "source": [
    "def acculumator(do_abs=False):\n",
    "    sum=0\n",
    "\n",
    "    def wrapper(n):\n",
    "        nonlocal sum\n",
    "        sum+=abs(n) if do_abs else n\n",
    "        return sum\n",
    "        \n",
    "    return wrapper\n",
    "\n",
    "adder = acculumator(True)\n",
    "adder(10)\n",
    "adder(-20)\n",
    "x=adder(30)\n",
    "print(x)"
   ]
  },
  {
   "cell_type": "markdown",
   "id": "7efb60cf-0150-4e6b-8721-a01ef2626835",
   "metadata": {},
   "source": [
    "# 함수를 인자로 실행 시간과 함께 호출하는 함수를 구현하시오.\n",
    "- 데코레이터(decorator)는 함수를 인자로 받아 실행하는 클로저의 이름 바인딩을 엣(@) 기호로 표현"
   ]
  },
  {
   "cell_type": "code",
   "execution_count": 13,
   "id": "256ebb71-9c8f-402b-bf21-36d8f2acc6cc",
   "metadata": {},
   "outputs": [
    {
     "name": "stdout",
     "output_type": "stream",
     "text": [
      "run time: 2.86102294921875e-06\n",
      "55\n"
     ]
    }
   ],
   "source": [
    "from time import time\n",
    "\n",
    "def run_time(func):\n",
    "    def wrapper(*args, **kwargs):\n",
    "        start=time()\n",
    "        t=func(*args, **kwargs)\n",
    "        print(\"run time:\", time()-start)\n",
    "        return t\n",
    "    return wrapper\n",
    "\n",
    "@run_time\n",
    "def fibo(n):\n",
    "    curr, next=0, 1\n",
    "    for _ in range(n):\n",
    "        curr, next=next, curr+next\n",
    "    return curr\n",
    "\n",
    "print(fibo(10))"
   ]
  },
  {
   "cell_type": "markdown",
   "id": "d910a021-95c6-4378-a7bc-99402937805d",
   "metadata": {},
   "source": [
    "# Class로 센서 id와 값을 저장하는 구조체를 정의하시오.\n",
    "- 클래스는 C언어의 구조체 확장으로 멤버 변수를 인스턴스 속성(attribute)이라 함"
   ]
  },
  {
   "cell_type": "markdown",
   "id": "3a187740-bcc6-45d1-b4b3-a12ee7a78913",
   "metadata": {},
   "source": [
    "'''\n",
    "typedef struct _SensorData {\n",
    "    int id;\n",
    "    int value;\n",
    "} SensorData;\n",
    "\n",
    "SensorData d1;\n",
    "SensorData d2;\n",
    "\n",
    "d1.id = 0x01;\n",
    "d1.value = 10;\n",
    "d2.id = 0x02;\n",
    "d2.value = 20;\n",
    "\n",
    "printf (\"%d: %d\", d1.id, d1.value);\n",
    "printf (\"%d: %d\", d2.id, d1=2.value);\n",
    "'''\n",
    "c 언어 구조체 참고 코드"
   ]
  },
  {
   "cell_type": "code",
   "execution_count": 14,
   "id": "244419ef-9457-4054-bfbc-1b6dcb1893af",
   "metadata": {},
   "outputs": [
    {
     "name": "stdout",
     "output_type": "stream",
     "text": [
      "1: 10\n",
      "2: 20\n"
     ]
    }
   ],
   "source": [
    "class SensorData:\n",
    "    def __init__(self, id=None, value=None):\n",
    "        self.id = id\n",
    "        self.value = value\n",
    "\n",
    "d1 = SensorData()\n",
    "d2 = SensorData(0x02, 20)\n",
    "\n",
    "d1.id = 0x01; d1.value = 10\n",
    "\n",
    "print(\"%d: %d\"%(d1.id, d1.value))\n",
    "print(\"%d: %d\"%(d2.id, d2.value))"
   ]
  },
  {
   "cell_type": "markdown",
   "id": "045deae4-b611-4846-9c70-b339c2afef68",
   "metadata": {},
   "source": [
    "# __new__()와 __init__()의 차이점을 설명하시오.\n",
    "- 클래스는 인스턴스 속성 외에 메소드(method)(멤버함수)를 함께 정의할 수 있음"
   ]
  },
  {
   "cell_type": "code",
   "execution_count": 30,
   "id": "ca1ef886-f062-45aa-b1ec-6ed838cec8a2",
   "metadata": {},
   "outputs": [
    {
     "name": "stdout",
     "output_type": "stream",
     "text": [
      "<class 'NoneType'>\n"
     ]
    }
   ],
   "source": [
    "class SensorData:\n",
    "    def __new__(cls):\n",
    "        pass\n",
    "        \n",
    "    def __init__(self, id=None, value=None):\n",
    "        self.id = id\n",
    "        self.value = value\n",
    "\n",
    "data1 = SensorData()\n",
    "print(type(data1))\n",
    "\n",
    "data2 = object.__new__(SensorData)\n",
    "data2.__init__(0x01, 10)"
   ]
  },
  {
   "cell_type": "code",
   "execution_count": 34,
   "id": "97a241b8-19e5-497b-8436-3da847f1177e",
   "metadata": {},
   "outputs": [
    {
     "name": "stdout",
     "output_type": "stream",
     "text": [
      "<class '__main__.SensorData'>\n"
     ]
    }
   ],
   "source": [
    "class SensorData:\n",
    "    def __new__(cls, *args, **kwargs):\n",
    "        inst = object.__new__(cls)\n",
    "        return inst\n",
    "        \n",
    "    def __init__(self, id, value):\n",
    "        self.id = id\n",
    "        self.value = value\n",
    "\n",
    "data1 = SensorData(1, 2)\n",
    "print(type(data1))\n",
    "\n",
    "data2 = SensorData(0x01, 10)"
   ]
  },
  {
   "cell_type": "markdown",
   "id": "ff2c8b89-c5f9-4f74-bd08-d41bcfe7ef23",
   "metadata": {},
   "source": [
    "# 인스턴스 수를 최대 2개로 제한하는 클래스를 구현하시오.\n",
    "- __new__() 메소드의 첫 번째 매개변수인 cls는 모든 인스턴스가 공유하는 클래스 객체를 가리킴"
   ]
  },
  {
   "cell_type": "code",
   "execution_count": 43,
   "id": "4c6eb79f-f285-4c2a-b02f-d42b25db31b1",
   "metadata": {},
   "outputs": [],
   "source": [
    "class SensorData:\n",
    "    __instance = []\n",
    "    __limit = 2\n",
    "\n",
    "    def __new__(cls, *args, **kwargs):\n",
    "        if len(cls.__instance) >= cls.__limit:\n",
    "            raise RuntimeError(\"Could not create instance\")\n",
    "\n",
    "        inst = object.__new__(cls)\n",
    "        cls.__instance.append(inst)\n",
    "\n",
    "        return inst\n",
    "\n",
    "    def __init__(self, id=None, value=None):\n",
    "        self.id = id\n",
    "        self.value = value\n",
    "\n",
    "    def __del__(self):\n",
    "        SensorData.__instance.remove(self)"
   ]
  },
  {
   "cell_type": "code",
   "execution_count": 44,
   "id": "cbd8fa8a-b11b-4bfd-9a25-91be9eb8bbf0",
   "metadata": {},
   "outputs": [
    {
     "name": "stdout",
     "output_type": "stream",
     "text": [
      "None None\n",
      "1 10\n"
     ]
    }
   ],
   "source": [
    "try:\n",
    "    data1 = SensorData()\n",
    "    data2 = SensorData(0x01, 10)\n",
    "    #data3 = SensorData(0x02, 20) #예외발생\n",
    "except RuntimeError as e:\n",
    "    print(e.args[0])\n",
    "else:\n",
    "    print(data1.id, data1.value)\n",
    "    print(data2.id, data2.value)"
   ]
  },
  {
   "cell_type": "markdown",
   "id": "57d0fc55-82ab-464e-8062-cfefb6672250",
   "metadata": {},
   "source": []
  },
  {
   "cell_type": "code",
   "execution_count": null,
   "id": "0bce2ca9-2e31-47e2-8c0e-bb4fcc6b9ce6",
   "metadata": {},
   "outputs": [],
   "source": []
  }
 ],
 "metadata": {
  "kernelspec": {
   "display_name": "Python 3 (ipykernel)",
   "language": "python",
   "name": "python3"
  },
  "language_info": {
   "codemirror_mode": {
    "name": "ipython",
    "version": 3
   },
   "file_extension": ".py",
   "mimetype": "text/x-python",
   "name": "python",
   "nbconvert_exporter": "python",
   "pygments_lexer": "ipython3",
   "version": "3.10.11"
  }
 },
 "nbformat": 4,
 "nbformat_minor": 5
}
